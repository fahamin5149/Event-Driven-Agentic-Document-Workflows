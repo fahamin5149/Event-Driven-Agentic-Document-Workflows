{
 "cells": [
  {
   "cell_type": "markdown",
   "id": "332def60",
   "metadata": {},
   "source": [
    "## Adding RAG to workflow"
   ]
  },
  {
   "cell_type": "markdown",
   "id": "d226998c",
   "metadata": {},
   "source": [
    "Add a document database to a workflow\n",
    "\n",
    "we’ll parse a resume and load it into a vector store, and use the agent to run basic queries against the documents. You’ll use LlamaParse to parse the documents."
   ]
  },
  {
   "cell_type": "markdown",
   "id": "d80af194",
   "metadata": {},
   "source": [
    "## Importing libraries"
   ]
  },
  {
   "cell_type": "code",
   "execution_count": 1,
   "id": "de54d270-81bf-422a-aeb8-f1e83f2153d2",
   "metadata": {
    "height": 117
   },
   "outputs": [],
   "source": [
    "from IPython.display import display, HTML\n",
    "from llama_index.utils.workflow import draw_all_possible_flows\n",
    "import os"
   ]
  },
  {
   "cell_type": "markdown",
   "id": "8d21f73d",
   "metadata": {},
   "source": [
    "## API for workflow"
   ]
  },
  {
   "cell_type": "code",
   "execution_count": 3,
   "id": "05debf6f",
   "metadata": {},
   "outputs": [
    {
     "data": {
      "text/plain": [
       "True"
      ]
     },
     "execution_count": 3,
     "metadata": {},
     "output_type": "execute_result"
    }
   ],
   "source": [
    "import os\n",
    "from dotenv import load_dotenv\n",
    "\n",
    "load_dotenv()"
   ]
  },
  {
   "cell_type": "code",
   "execution_count": 4,
   "id": "05ebdde5",
   "metadata": {},
   "outputs": [],
   "source": [
    "import os\n",
    "\n",
    "def get_openai_api_key():\n",
    "    \"\"\"Retrieve the OpenAI API key from environment variables.\"\"\"\n",
    "    return os.getenv('OPEN_AI_KEY')\n",
    "\n",
    "def get_llama_cloud_api_key():\n",
    "    \"\"\"Retrieve the Llama Cloud API key from environment variables.\"\"\"\n",
    "    return os.getenv('LLAMA_CLOUD_API')\n",
    "\n",
    "def extract_html_content(filename):\n",
    "    \"\"\"Read an HTML file and wrap its content in a scrollable div.\"\"\"\n",
    "    try:\n",
    "        with open(filename, 'r', encoding='utf-8') as file:\n",
    "            html_content = file.read()\n",
    "            html_content = f\"\"\" <div style=\"width: 100%; height: 800px; overflow: hidden;\"> {html_content} </div>\"\"\"\n",
    "            return html_content\n",
    "    except Exception as e:\n",
    "        raise Exception(f\"Error reading file: {str(e)}\")\n"
   ]
  },
  {
   "cell_type": "markdown",
   "id": "584e4be1-f8f1-4fcf-90a6-5b70a8567a57",
   "metadata": {},
   "source": [
    "You need nested async for this to work, so let's enable it here. It allows you to nest asyncio event loops within each other. \n",
    "\n",
    "*Note:* In asynchronous programming, the event loop is like a continuous cycle that manages the execution of code."
   ]
  },
  {
   "cell_type": "code",
   "execution_count": 2,
   "id": "60f6ed29",
   "metadata": {},
   "outputs": [],
   "source": [
    "import nest_asyncio\n",
    "nest_asyncio.apply()"
   ]
  },
  {
   "cell_type": "markdown",
   "id": "8cfe1ebe",
   "metadata": {},
   "source": [
    "You also need two API keys: \n",
    "- LLM like you we earlier;\n",
    "- LlamaCloud API key to use LlamaParse to parse the PDFs.\n",
    "\n",
    "LlamaParse is an advanced document parser that can read PDFs, Word files, Powerpoints, Excel spreadsheets, and extract information out of complicated PDFs into a form LLMs find easy to understand."
   ]
  },
  {
   "cell_type": "code",
   "execution_count": 6,
   "id": "2480c5eb",
   "metadata": {},
   "outputs": [],
   "source": [
    "llama_cloud_api_key = get_llama_cloud_api_key()\n",
    "llm_api_key = os.getenv('GROQ_API')"
   ]
  },
  {
   "cell_type": "markdown",
   "id": "aa144829-78b4-409b-a9f7-3b4e71b28e1e",
   "metadata": {},
   "source": [
    "## Performing Retrieval-Augmented Generation (RAG) on a Resume Document"
   ]
  },
  {
   "cell_type": "markdown",
   "id": "e19853ba-dc5e-44e2-9395-9c2db18d22c9",
   "metadata": {},
   "source": [
    "### 1. Parsing the Resume Document "
   ]
  },
  {
   "attachments": {
    "image.png": {
     "image/png": "[encoded data removed]"
    }
   },
   "cell_type": "markdown",
   "id": "3e123386-f058-4ab3-a2a2-aeed9ec90fb4",
   "metadata": {},
   "source": [
    "Let's start by parsing a resume.\n",
    "\n",
    "![image.png](attachment:image.png)"
   ]
  },
  {
   "cell_type": "markdown",
   "id": "744ef68c-2ffd-41a2-bd50-46fe4bea35ba",
   "metadata": {},
   "source": [
    "Using LLamaParse, we will transform the resume into a list of Document objects. By default, a Document object stores text along with some other attributes:\n",
    "- metadata: a dictionary of annotations that can be appended to the text.\n",
    "- relationships: a dictionary containing relationships to other Documents.\n",
    "  \n",
    "\n",
    "You can tell LlamaParse what kind of document it's parsing, so that it will parse the contents more intelligently. In this case, you tell it that it's reading a resume."
   ]
  },
  {
   "cell_type": "code",
   "execution_count": 7,
   "id": "7a8eee75",
   "metadata": {},
   "outputs": [],
   "source": [
    "from llama_parse import LlamaParse"
   ]
  },
  {
   "cell_type": "code",
   "execution_count": 8,
   "id": "bcd93ebf",
   "metadata": {},
   "outputs": [
    {
     "name": "stdout",
     "output_type": "stream",
     "text": [
      "WARNING: content_guideline_instruction is deprecated and may be remove in a future release. Use system_prompt, system_prompt_append or user_prompt instead.\n",
      "Started parsing the file under job_id cb565ae9-8279-4332-bb07-603eb644dc67\n"
     ]
    }
   ],
   "source": [
    "documents = LlamaParse(\n",
    "    api_key=llama_cloud_api_key,\n",
    "    result_type=\"markdown\",\n",
    "    content_guideline_instruction=\"This is a resume, gather related facts together and format it as bullet points with headers\"\n",
    ").load_data(\n",
    "    \"data/fake_resume.pdf\",\n",
    ")"
   ]
  },
  {
   "cell_type": "code",
   "execution_count": null,
   "id": "a69d1edc",
   "metadata": {},
   "outputs": [],
   "source": []
  }
 ],
 "metadata": {
  "kernelspec": {
   "display_name": "Python 3 (ipykernel)",
   "language": "python",
   "name": "python3"
  },
  "language_info": {
   "codemirror_mode": {
    "name": "ipython",
    "version": 3
   },
   "file_extension": ".py",
   "mimetype": "text/x-python",
   "name": "python",
   "nbconvert_exporter": "python",
   "pygments_lexer": "ipython3",
   "version": "3.11.4"
  }
 },
 "nbformat": 4,
 "nbformat_minor": 5
}
