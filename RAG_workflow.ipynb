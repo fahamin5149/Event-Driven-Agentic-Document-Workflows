{
 "cells": [
  {
   "cell_type": "markdown",
   "id": "13f17879",
   "metadata": {},
   "source": [
    "## Adding RAG to workflow"
   ]
  },
  {
   "cell_type": "markdown",
   "id": "b9900cba",
   "metadata": {},
   "source": [
    "Add a document database to a workflow\n",
    "\n",
    "we’ll parse a resume and load it into a vector store, and use the agent to run basic queries against the documents. You’ll use LlamaParse to parse the documents."
   ]
  },
  {
   "cell_type": "markdown",
   "id": "c3daed38",
   "metadata": {},
   "source": [
    "## Importing libraries"
   ]
  },
  {
   "cell_type": "code",
   "execution_count": 1,
   "id": "de54d270-81bf-422a-aeb8-f1e83f2153d2",
   "metadata": {
    "height": 117
   },
   "outputs": [],
   "source": [
    "from IPython.display import display, HTML\n",
    "from llama_index.utils.workflow import draw_all_possible_flows\n",
    "import os\n",
    "from llama_index.core.workflow import (\n",
    "    StartEvent,\n",
    "    StopEvent,\n",
    "    Workflow,\n",
    "    step,\n",
    "    Context\n",
    ")\n",
    "\n",
    "from llama_index.core.workflow import Event\n",
    "import asyncio\n"
   ]
  },
  {
   "cell_type": "markdown",
   "id": "8d21f73d",
   "metadata": {},
   "source": [
    "## API for workflow"
   ]
  },
  {
   "cell_type": "code",
   "execution_count": 2,
   "id": "05debf6f",
   "metadata": {},
   "outputs": [
    {
     "data": {
      "text/plain": [
       "True"
      ]
     },
     "execution_count": 2,
     "metadata": {},
     "output_type": "execute_result"
    }
   ],
   "source": [
    "import os\n",
    "from dotenv import load_dotenv\n",
    "\n",
    "load_dotenv()"
   ]
  },
  {
   "cell_type": "code",
   "execution_count": 3,
   "id": "05ebdde5",
   "metadata": {},
   "outputs": [],
   "source": [
    "import os\n",
    "\n",
    "def get_openai_api_key():\n",
    "    \"\"\"Retrieve the OpenAI API key from environment variables.\"\"\"\n",
    "    return os.getenv('OPEN_AI_KEY')\n",
    "\n",
    "def get_llama_cloud_api_key():\n",
    "    \"\"\"Retrieve the Llama Cloud API key from environment variables.\"\"\"\n",
    "    return os.getenv('LLAMA_CLOUD_API')\n",
    "\n",
    "def extract_html_content(filename):\n",
    "    \"\"\"Read an HTML file and wrap its content in a scrollable div.\"\"\"\n",
    "    try:\n",
    "        with open(filename, 'r', encoding='utf-8') as file:\n",
    "            html_content = file.read()\n",
    "            html_content = f\"\"\" <div style=\"width: 100%; height: 800px; overflow: hidden;\"> {html_content} </div>\"\"\"\n",
    "            return html_content\n",
    "    except Exception as e:\n",
    "        raise Exception(f\"Error reading file: {str(e)}\")\n"
   ]
  },
  {
   "cell_type": "markdown",
   "id": "584e4be1-f8f1-4fcf-90a6-5b70a8567a57",
   "metadata": {},
   "source": [
    "You need nested async for this to work, so let's enable it here. It allows you to nest asyncio event loops within each other. \n",
    "\n",
    "*Note:* In asynchronous programming, the event loop is like a continuous cycle that manages the execution of code."
   ]
  },
  {
   "cell_type": "code",
   "execution_count": 4,
   "id": "ea636535",
   "metadata": {},
   "outputs": [],
   "source": [
    "import nest_asyncio\n",
    "nest_asyncio.apply()"
   ]
  },
  {
   "cell_type": "markdown",
   "id": "23825117",
   "metadata": {},
   "source": [
    "You also need two API keys: \n",
    "- LLM like you we earlier;\n",
    "- LlamaCloud API key to use LlamaParse to parse the PDFs.\n",
    "\n",
    "LlamaParse is an advanced document parser that can read PDFs, Word files, Powerpoints, Excel spreadsheets, and extract information out of complicated PDFs into a form LLMs find easy to understand."
   ]
  },
  {
   "cell_type": "code",
   "execution_count": 5,
   "id": "45aeba03",
   "metadata": {},
   "outputs": [],
   "source": [
    "llama_cloud_api_key = get_llama_cloud_api_key()\n",
    "llm_api_key = os.getenv('GROQ_API')"
   ]
  },
  {
   "cell_type": "markdown",
   "id": "aa144829-78b4-409b-a9f7-3b4e71b28e1e",
   "metadata": {},
   "source": [
    "## Performing Retrieval-Augmented Generation (RAG) on a Resume Document"
   ]
  },
  {
   "cell_type": "markdown",
   "id": "e19853ba-dc5e-44e2-9395-9c2db18d22c9",
   "metadata": {},
   "source": [
    "### 1. Parsing the Resume Document "
   ]
  },
  {
   "attachments": {
    "image.png": {
     "image/png": "[encoded data removed]"
    }
   },
   "cell_type": "markdown",
   "id": "3e123386-f058-4ab3-a2a2-aeed9ec90fb4",
   "metadata": {},
   "source": [
    "Let's start by parsing a resume.\n",
    "\n",
    "![image.png](attachment:image.png)"
   ]
  },
  {
   "cell_type": "markdown",
   "id": "744ef68c-2ffd-41a2-bd50-46fe4bea35ba",
   "metadata": {},
   "source": [
    "Using LLamaParse, we will transform the resume into a list of Document objects. By default, a Document object stores text along with some other attributes:\n",
    "- metadata: a dictionary of annotations that can be appended to the text.\n",
    "- relationships: a dictionary containing relationships to other Documents.\n",
    "  \n",
    "\n",
    "You can tell LlamaParse what kind of document it's parsing, so that it will parse the contents more intelligently. In this case, you tell it that it's reading a resume."
   ]
  },
  {
   "cell_type": "code",
   "execution_count": 6,
   "id": "13833762",
   "metadata": {},
   "outputs": [],
   "source": [
    "from llama_parse import LlamaParse"
   ]
  },
  {
   "cell_type": "code",
   "execution_count": 7,
   "id": "bdf8e98c",
   "metadata": {},
   "outputs": [
    {
     "name": "stdout",
     "output_type": "stream",
     "text": [
      "WARNING: content_guideline_instruction is deprecated and may be remove in a future release. Use system_prompt, system_prompt_append or user_prompt instead.\n",
      "Started parsing the file under job_id 688c5dcf-292d-443c-9aab-023915bd81eb\n"
     ]
    }
   ],
   "source": [
    "documents = LlamaParse(\n",
    "    api_key=llama_cloud_api_key,\n",
    "    result_type=\"markdown\",\n",
    "    content_guideline_instruction=\"This is a resume, gather related facts together and format it as bullet points with headers\"\n",
    ").load_data(\n",
    "    \"data/fake_resume.pdf\",\n",
    ")"
   ]
  },
  {
   "cell_type": "code",
   "execution_count": 8,
   "id": "9735a304",
   "metadata": {},
   "outputs": [
    {
     "name": "stdout",
     "output_type": "stream",
     "text": [
      "3\n"
     ]
    }
   ],
   "source": [
    "print(len(documents))\n",
    "# resume has three pages so the length of doc is 3"
   ]
  },
  {
   "cell_type": "code",
   "execution_count": 9,
   "id": "fc44eeb5",
   "metadata": {},
   "outputs": [
    {
     "name": "stdout",
     "output_type": "stream",
     "text": [
      "Doc ID: 5b6cecb3-d763-47f8-85a6-cd45adae888b\n",
      "Text: # Sarah Chen  Email: sarah.chen@email.com  LinkedIn:\n",
      "linkedin.com/in/sarahchen  GitHub: github.com/sarahcodes  Portfolio:\n",
      "sarahchen.dev  Location: San Francisco, CA  # Professional Summary\n",
      "Innovative Full Stack Web Developer with 6+ years of experience\n",
      "crafting scalable web applications and microservices. Specialized in\n",
      "React, Node.js, and clou...\n"
     ]
    }
   ],
   "source": [
    "print(documents[0])"
   ]
  },
  {
   "cell_type": "code",
   "execution_count": 19,
   "id": "366ee674",
   "metadata": {
    "scrolled": true
   },
   "outputs": [
    {
     "name": "stdout",
     "output_type": "stream",
     "text": [
      "('id_', '62102dbf-f663-44ef-8013-7f3f8c712ca2')\n",
      "('embedding', None)\n",
      "('metadata', {})\n",
      "('excluded_embed_metadata_keys', [])\n",
      "('excluded_llm_metadata_keys', [])\n",
      "('relationships', {})\n",
      "('metadata_template', '{key}: {value}')\n",
      "('metadata_separator', '\\n')\n",
      "('text_resource', MediaResource(embeddings=None, data=None, text=\"# Sarah Chen\\n\\nEmail: sarah.chen@email.com\\n\\nLinkedIn: linkedin.com/in/sarahchen\\n\\nGitHub: github.com/sarahcodes\\n\\nPortfolio: sarahchen.dev\\n\\nLocation: San Francisco, CA\\n\\n# Professional Summary\\n\\nInnovative Full Stack Web Developer with 6+ years of experience crafting scalable web applications and microservices. Specialized in React, Node.js, and cloud architecture. Proven track record of leading technical teams and implementing CI/CD pipelines that reduced deployment time by 40%. Passionate about clean code, accessibility, and mentoring junior developers.\\n\\n# Professional Experience\\n\\n# Senior Full Stack Developer\\n\\nTechFlow Solutions | San Francisco, CA January 2022 - Present\\n\\n- Architected and implemented a microservices-based e-commerce platform serving 100K+ daily users\\n- Led a team of 5 developers in rebuilding the company's flagship product using React and Node.js\\n- Implemented GraphQL API gateway that reduced API response times by 60%\\n- Established coding standards and review processes that improved code quality by 45%\\n\\n# Technical Skills\\n\\n# Frontend:\\n\\n- React.js, Redux, Next.js, TypeScript\\n- Vue.js, Nuxt.js\\n- HTML5, CSS3, SASS/SCSS\\n- Jest, React Testing Library\\n- WebPack, Babel\\n\\n# Backend:\\n\\n- Node.js, Express.js\\n- Python, Django\\n- GraphQL, REST APIs\\n- PostgreSQL, MongoDB\", path=None, url=None, mimetype=None))\n",
      "('image_resource', None)\n",
      "('audio_resource', None)\n",
      "('video_resource', None)\n",
      "('text_template', '{metadata_str}\\n\\n{content}')\n",
      "('id_', 'c3447680-9c10-4b25-a3d8-ac1e12b36bf5')\n",
      "('embedding', None)\n",
      "('metadata', {})\n",
      "('excluded_embed_metadata_keys', [])\n",
      "('excluded_llm_metadata_keys', [])\n",
      "('relationships', {})\n",
      "('metadata_template', '{key}: {value}')\n",
      "('metadata_separator', '\\n')\n",
      "('text_resource', MediaResource(embeddings=None, data=None, text='# Full Stack Developer\\n\\nInnovateSoft | Oakland, CA March 2019 - December 2021\\n\\n- Mentored 3 junior developers who were promoted to mid-level positions\\n- Developed and maintained 10+ customer-facing applications using Vue.js and Django\\n- Implemented automated testing suite that increased code coverage from 65% to 95%\\n- Optimized database queries resulting in 30% faster page load times\\n- Collaborated with UX team to implement accessibility features (WCAG 2.1 compliance)\\n- Created documentation that reduced onboarding time for new developers by 50%\\n\\n# Tools & Others:\\n\\n- Docker, Kubernetes\\n- AWS (EC2, S3, Lambda)\\n- Git, GitHub Actions\\n- Jenkins, CircleCI\\n- Agile/Scrum methodology\\n- Performance optimization\\n\\n# Junior Web Developer\\n\\nStartupHub | San Jose, CA June 2017 - February 2019\\n\\n- Built responsive web applications using React.js and Express.js\\n- Implemented user authentication system using JWT and OAuth2.0\\n- Contributed to migration of legacy PHP applications to modern JavaScript stack\\n- Developed RESTful APIs consumed by mobile and web applications\\n\\n# Education\\n\\nBachelor of Science in Computer Science\\n\\nUniversity of California, Berkeley 2013 - 2017\\n\\n- GPA: 3.8/4.0\\n- Minor in User Experience Design\\n- President of Women in Tech Society', path=None, url=None, mimetype=None))\n",
      "('image_resource', None)\n",
      "('audio_resource', None)\n",
      "('video_resource', None)\n",
      "('text_template', '{metadata_str}\\n\\n{content}')\n",
      "('id_', 'bb0aadfe-2c88-40be-8d1c-a45f0f3a735f')\n",
      "('embedding', None)\n",
      "('metadata', {})\n",
      "('excluded_embed_metadata_keys', [])\n",
      "('excluded_llm_metadata_keys', [])\n",
      "('relationships', {})\n",
      "('metadata_template', '{key}: {value}')\n",
      "('metadata_separator', '\\n')\n",
      "('text_resource', MediaResource(embeddings=None, data=None, text='# Projects\\n\\n# EcoTrack | GitHub\\n\\n- Built full-stack application for tracking carbon footprint using React, Node.js, and MongoDB\\n- Implemented machine learning algorithm for providing personalized sustainability recommendations\\n- Featured in TechCrunch\\'s \"Top 10 Environmental Impact Apps of 2023\"\\n\\n# ChatFlow | Demo\\n\\n- Developed real-time chat application using WebSocket protocol and React\\n- Implemented end-to-end encryption and message persistence\\n- Serves 5000+ monthly active users\\n\\n# Certifications\\n\\n- AWS Certified Solutions Architect (2023)\\n- Google Cloud Professional Developer (2022)\\n- MongoDB Certified Developer (2021)\\n\\n# Languages\\n\\n- English (Native)\\n- Mandarin Chinese (Fluent)\\n- Spanish (Intermediate)\\n\\n# Interests\\n\\n- Open source contribution\\n- Tech blogging (15K+ Medium followers)\\n- Hackathon mentoring\\n- Rock climbing', path=None, url=None, mimetype=None))\n",
      "('image_resource', None)\n",
      "('audio_resource', None)\n",
      "('video_resource', None)\n",
      "('text_template', '{metadata_str}\\n\\n{content}')\n"
     ]
    }
   ],
   "source": [
    "for i in documents[0]:\n",
    "    print(i)\n",
    "    \n",
    "for i in documents[1]:\n",
    "    print(i)\n",
    "    \n",
    "for i in documents[2]:\n",
    "    print(i)"
   ]
  },
  {
   "cell_type": "code",
   "execution_count": 21,
   "id": "843094fc",
   "metadata": {
    "scrolled": true
   },
   "outputs": [
    {
     "name": "stdout",
     "output_type": "stream",
     "text": [
      "# Sarah Chen\n",
      "\n",
      "Email: sarah.chen@email.com\n",
      "\n",
      "LinkedIn: linkedin.com/in/sarahchen\n",
      "\n",
      "GitHub: github.com/sarahcodes\n",
      "\n",
      "Portfolio: sarahchen.dev\n",
      "\n",
      "Location: San Francisco, CA\n",
      "\n",
      "# Professional Summary\n",
      "\n",
      "Innovative Full Stack Web Developer with 6+ years of experience crafting scalable web applications and microservices. Specialized in React, Node.js, and cloud architecture. Proven track record of leading technical teams and implementing CI/CD pipelines that reduced deployment time by 40%. Passionate about clean code, accessibility, and mentoring junior developers.\n",
      "\n",
      "# Professional Experience\n",
      "\n",
      "# Senior Full Stack Developer\n",
      "\n",
      "TechFlow Solutions | San Francisco, CA January 2022 - Present\n",
      "\n",
      "- Architected and implemented a microservices-based e-commerce platform serving 100K+ daily users\n",
      "- Led a team of 5 developers in rebuilding the company's flagship product using React and Node.js\n",
      "- Implemented GraphQL API gateway that reduced API response times by 60%\n",
      "- Established coding standards and review processes that improved code quality by 45%\n",
      "\n",
      "# Technical Skills\n",
      "\n",
      "# Frontend:\n",
      "\n",
      "- React.js, Redux, Next.js, TypeScript\n",
      "- Vue.js, Nuxt.js\n",
      "- HTML5, CSS3, SASS/SCSS\n",
      "- Jest, React Testing Library\n",
      "- WebPack, Babel\n",
      "\n",
      "# Backend:\n",
      "\n",
      "- Node.js, Express.js\n",
      "- Python, Django\n",
      "- GraphQL, REST APIs\n",
      "- PostgreSQL, MongoDB\n",
      "# Full Stack Developer\n",
      "\n",
      "InnovateSoft | Oakland, CA March 2019 - December 2021\n",
      "\n",
      "- Mentored 3 junior developers who were promoted to mid-level positions\n",
      "- Developed and maintained 10+ customer-facing applications using Vue.js and Django\n",
      "- Implemented automated testing suite that increased code coverage from 65% to 95%\n",
      "- Optimized database queries resulting in 30% faster page load times\n",
      "- Collaborated with UX team to implement accessibility features (WCAG 2.1 compliance)\n",
      "- Created documentation that reduced onboarding time for new developers by 50%\n",
      "\n",
      "# Tools & Others:\n",
      "\n",
      "- Docker, Kubernetes\n",
      "- AWS (EC2, S3, Lambda)\n",
      "- Git, GitHub Actions\n",
      "- Jenkins, CircleCI\n",
      "- Agile/Scrum methodology\n",
      "- Performance optimization\n",
      "\n",
      "# Junior Web Developer\n",
      "\n",
      "StartupHub | San Jose, CA June 2017 - February 2019\n",
      "\n",
      "- Built responsive web applications using React.js and Express.js\n",
      "- Implemented user authentication system using JWT and OAuth2.0\n",
      "- Contributed to migration of legacy PHP applications to modern JavaScript stack\n",
      "- Developed RESTful APIs consumed by mobile and web applications\n",
      "\n",
      "# Education\n",
      "\n",
      "Bachelor of Science in Computer Science\n",
      "\n",
      "University of California, Berkeley 2013 - 2017\n",
      "\n",
      "- GPA: 3.8/4.0\n",
      "- Minor in User Experience Design\n",
      "- President of Women in Tech Society\n",
      "# Projects\n",
      "\n",
      "# EcoTrack | GitHub\n",
      "\n",
      "- Built full-stack application for tracking carbon footprint using React, Node.js, and MongoDB\n",
      "- Implemented machine learning algorithm for providing personalized sustainability recommendations\n",
      "- Featured in TechCrunch's \"Top 10 Environmental Impact Apps of 2023\"\n",
      "\n",
      "# ChatFlow | Demo\n",
      "\n",
      "- Developed real-time chat application using WebSocket protocol and React\n",
      "- Implemented end-to-end encryption and message persistence\n",
      "- Serves 5000+ monthly active users\n",
      "\n",
      "# Certifications\n",
      "\n",
      "- AWS Certified Solutions Architect (2023)\n",
      "- Google Cloud Professional Developer (2022)\n",
      "- MongoDB Certified Developer (2021)\n",
      "\n",
      "# Languages\n",
      "\n",
      "- English (Native)\n",
      "- Mandarin Chinese (Fluent)\n",
      "- Spanish (Intermediate)\n",
      "\n",
      "# Interests\n",
      "\n",
      "- Open source contribution\n",
      "- Tech blogging (15K+ Medium followers)\n",
      "- Hackathon mentoring\n",
      "- Rock climbing\n"
     ]
    }
   ],
   "source": [
    "print(documents[0].text)\n",
    "print(documents[1].text)\n",
    "print(documents[2].text)"
   ]
  },
  {
   "cell_type": "markdown",
   "id": "475513b5",
   "metadata": {},
   "source": [
    "## Using embedding model"
   ]
  },
  {
   "cell_type": "code",
   "execution_count": 4,
   "id": "5820e72a",
   "metadata": {},
   "outputs": [],
   "source": [
    "# pip install llama-index llama-index-embeddings-huggingface sentence-transformers"
   ]
  },
  {
   "cell_type": "code",
   "execution_count": 5,
   "id": "f28c2229",
   "metadata": {
    "collapsed": true
   },
   "outputs": [
    {
     "name": "stdout",
     "output_type": "stream",
     "text": [
      "Defaulting to user installation because normal site-packages is not writeable\n",
      "Requirement already satisfied: llama-index in c:\\users\\user\\appdata\\roaming\\python\\python311\\site-packages (0.12.23)\n",
      "Collecting llama-index\n",
      "  Obtaining dependency information for llama-index from https://files.pythonhosted.org/packages/b7/59/38019698f605d8f72f0e2a7b6ffdc9be536b8ecb54d052fea23363243ea2/llama_index-0.12.24-py3-none-any.whl.metadata\n",
      "  Downloading llama_index-0.12.24-py3-none-any.whl.metadata (12 kB)\n",
      "Requirement already satisfied: sentence-transformers in c:\\users\\user\\appdata\\roaming\\python\\python311\\site-packages (3.4.1)\n",
      "Requirement already satisfied: datasets in c:\\users\\user\\appdata\\roaming\\python\\python311\\site-packages (2.19.2)\n",
      "Collecting datasets\n",
      "  Obtaining dependency information for datasets from https://files.pythonhosted.org/packages/7b/37/aaeec6b97c91833f1342c755beb0283f20b6ee208522af04daf49c251bdb/datasets-3.4.0-py3-none-any.whl.metadata\n",
      "  Downloading datasets-3.4.0-py3-none-any.whl.metadata (19 kB)\n",
      "Requirement already satisfied: llama-index-agent-openai<0.5.0,>=0.4.0 in c:\\users\\user\\appdata\\roaming\\python\\python311\\site-packages (from llama-index) (0.4.6)\n",
      "Requirement already satisfied: llama-index-cli<0.5.0,>=0.4.1 in c:\\users\\user\\appdata\\roaming\\python\\python311\\site-packages (from llama-index) (0.4.1)\n",
      "Collecting llama-index-core<0.13.0,>=0.12.24 (from llama-index)\n",
      "  Obtaining dependency information for llama-index-core<0.13.0,>=0.12.24 from https://files.pythonhosted.org/packages/fc/cb/014da862f7f53ad2c0b388426de06099526d7736613166c9af113d41d19f/llama_index_core-0.12.24.post1-py3-none-any.whl.metadata\n",
      "  Downloading llama_index_core-0.12.24.post1-py3-none-any.whl.metadata (2.5 kB)\n",
      "Requirement already satisfied: llama-index-embeddings-openai<0.4.0,>=0.3.0 in c:\\users\\user\\appdata\\roaming\\python\\python311\\site-packages (from llama-index) (0.3.1)\n",
      "Requirement already satisfied: llama-index-indices-managed-llama-cloud>=0.4.0 in c:\\users\\user\\appdata\\roaming\\python\\python311\\site-packages (from llama-index) (0.6.8)\n",
      "Requirement already satisfied: llama-index-llms-openai<0.4.0,>=0.3.0 in c:\\users\\user\\appdata\\roaming\\python\\python311\\site-packages (from llama-index) (0.3.25)\n",
      "Requirement already satisfied: llama-index-multi-modal-llms-openai<0.5.0,>=0.4.0 in c:\\users\\user\\appdata\\roaming\\python\\python311\\site-packages (from llama-index) (0.4.3)\n",
      "Requirement already satisfied: llama-index-program-openai<0.4.0,>=0.3.0 in c:\\users\\user\\appdata\\roaming\\python\\python311\\site-packages (from llama-index) (0.3.1)\n",
      "Requirement already satisfied: llama-index-question-gen-openai<0.4.0,>=0.3.0 in c:\\users\\user\\appdata\\roaming\\python\\python311\\site-packages (from llama-index) (0.3.0)\n",
      "Requirement already satisfied: llama-index-readers-file<0.5.0,>=0.4.0 in c:\\users\\user\\appdata\\roaming\\python\\python311\\site-packages (from llama-index) (0.4.6)\n",
      "Requirement already satisfied: llama-index-readers-llama-parse>=0.4.0 in c:\\users\\user\\appdata\\roaming\\python\\python311\\site-packages (from llama-index) (0.4.0)\n",
      "Requirement already satisfied: nltk>3.8.1 in c:\\users\\user\\appdata\\roaming\\python\\python311\\site-packages (from llama-index) (3.9.1)\n",
      "Requirement already satisfied: transformers<5.0.0,>=4.41.0 in c:\\users\\user\\appdata\\roaming\\python\\python311\\site-packages (from sentence-transformers) (4.49.0)\n",
      "Requirement already satisfied: tqdm in c:\\users\\user\\appdata\\roaming\\python\\python311\\site-packages (from sentence-transformers) (4.67.1)\n",
      "Requirement already satisfied: torch>=1.11.0 in c:\\users\\user\\appdata\\roaming\\python\\python311\\site-packages (from sentence-transformers) (2.1.0)\n",
      "Requirement already satisfied: scikit-learn in c:\\users\\user\\appdata\\roaming\\python\\python311\\site-packages (from sentence-transformers) (1.5.2)\n",
      "Requirement already satisfied: scipy in c:\\programdata\\anaconda3\\lib\\site-packages (from sentence-transformers) (1.10.1)\n",
      "Requirement already satisfied: huggingface-hub>=0.20.0 in c:\\users\\user\\appdata\\roaming\\python\\python311\\site-packages (from sentence-transformers) (0.29.3)\n",
      "Requirement already satisfied: Pillow in c:\\programdata\\anaconda3\\lib\\site-packages (from sentence-transformers) (9.4.0)\n",
      "Requirement already satisfied: filelock in c:\\programdata\\anaconda3\\lib\\site-packages (from datasets) (3.9.0)\n",
      "Requirement already satisfied: numpy>=1.17 in c:\\programdata\\anaconda3\\lib\\site-packages (from datasets) (1.24.3)\n",
      "Requirement already satisfied: pyarrow>=15.0.0 in c:\\users\\user\\appdata\\roaming\\python\\python311\\site-packages (from datasets) (16.1.0)\n",
      "Requirement already satisfied: dill<0.3.9,>=0.3.0 in c:\\users\\user\\appdata\\roaming\\python\\python311\\site-packages (from datasets) (0.3.8)\n",
      "Requirement already satisfied: pandas in c:\\programdata\\anaconda3\\lib\\site-packages (from datasets) (1.5.3)\n",
      "Requirement already satisfied: requests>=2.32.2 in c:\\users\\user\\appdata\\roaming\\python\\python311\\site-packages (from datasets) (2.32.3)\n",
      "Requirement already satisfied: xxhash in c:\\users\\user\\appdata\\roaming\\python\\python311\\site-packages (from datasets) (3.4.1)\n",
      "Requirement already satisfied: multiprocess<0.70.17 in c:\\users\\user\\appdata\\roaming\\python\\python311\\site-packages (from datasets) (0.70.16)\n",
      "Requirement already satisfied: fsspec[http]<=2024.12.0,>=2023.1.0 in c:\\users\\user\\appdata\\roaming\\python\\python311\\site-packages (from datasets) (2023.10.0)\n",
      "Requirement already satisfied: aiohttp in c:\\users\\user\\appdata\\roaming\\python\\python311\\site-packages (from datasets) (3.11.13)\n",
      "Requirement already satisfied: packaging in c:\\programdata\\anaconda3\\lib\\site-packages (from datasets) (23.0)\n",
      "Requirement already satisfied: pyyaml>=5.1 in c:\\users\\user\\appdata\\roaming\\python\\python311\\site-packages (from datasets) (6.0.2)\n",
      "Requirement already satisfied: aiohappyeyeballs>=2.3.0 in c:\\users\\user\\appdata\\roaming\\python\\python311\\site-packages (from aiohttp->datasets) (2.5.0)\n",
      "Requirement already satisfied: aiosignal>=1.1.2 in c:\\programdata\\anaconda3\\lib\\site-packages (from aiohttp->datasets) (1.2.0)\n",
      "Requirement already satisfied: attrs>=17.3.0 in c:\\programdata\\anaconda3\\lib\\site-packages (from aiohttp->datasets) (22.1.0)\n",
      "Requirement already satisfied: frozenlist>=1.1.1 in c:\\programdata\\anaconda3\\lib\\site-packages (from aiohttp->datasets) (1.3.3)\n",
      "Requirement already satisfied: multidict<7.0,>=4.5 in c:\\programdata\\anaconda3\\lib\\site-packages (from aiohttp->datasets) (6.0.2)\n",
      "Requirement already satisfied: propcache>=0.2.0 in c:\\users\\user\\appdata\\roaming\\python\\python311\\site-packages (from aiohttp->datasets) (0.3.0)\n",
      "Requirement already satisfied: yarl<2.0,>=1.17.0 in c:\\users\\user\\appdata\\roaming\\python\\python311\\site-packages (from aiohttp->datasets) (1.18.3)\n",
      "Requirement already satisfied: typing-extensions>=3.7.4.3 in c:\\users\\user\\appdata\\roaming\\python\\python311\\site-packages (from huggingface-hub>=0.20.0->sentence-transformers) (4.12.2)\n",
      "Requirement already satisfied: openai>=1.14.0 in c:\\users\\user\\appdata\\roaming\\python\\python311\\site-packages (from llama-index-agent-openai<0.5.0,>=0.4.0->llama-index) (1.65.4)\n",
      "Requirement already satisfied: SQLAlchemy[asyncio]>=1.4.49 in c:\\users\\user\\appdata\\roaming\\python\\python311\\site-packages (from llama-index-core<0.13.0,>=0.12.24->llama-index) (2.0.23)\n",
      "Requirement already satisfied: dataclasses-json in c:\\users\\user\\appdata\\roaming\\python\\python311\\site-packages (from llama-index-core<0.13.0,>=0.12.24->llama-index) (0.6.7)\n",
      "Requirement already satisfied: deprecated>=1.2.9.3 in c:\\users\\user\\appdata\\roaming\\python\\python311\\site-packages (from llama-index-core<0.13.0,>=0.12.24->llama-index) (1.2.18)\n",
      "Requirement already satisfied: dirtyjson<2.0.0,>=1.0.8 in c:\\users\\user\\appdata\\roaming\\python\\python311\\site-packages (from llama-index-core<0.13.0,>=0.12.24->llama-index) (1.0.8)\n",
      "Requirement already satisfied: filetype<2.0.0,>=1.2.0 in c:\\users\\user\\appdata\\roaming\\python\\python311\\site-packages (from llama-index-core<0.13.0,>=0.12.24->llama-index) (1.2.0)\n",
      "Requirement already satisfied: httpx in c:\\users\\user\\appdata\\roaming\\python\\python311\\site-packages (from llama-index-core<0.13.0,>=0.12.24->llama-index) (0.27.2)\n",
      "Requirement already satisfied: nest-asyncio<2.0.0,>=1.5.8 in c:\\users\\user\\appdata\\roaming\\python\\python311\\site-packages (from llama-index-core<0.13.0,>=0.12.24->llama-index) (1.6.0)\n",
      "Requirement already satisfied: networkx>=3.0 in c:\\programdata\\anaconda3\\lib\\site-packages (from llama-index-core<0.13.0,>=0.12.24->llama-index) (3.1)\n",
      "Requirement already satisfied: pydantic>=2.8.0 in c:\\users\\user\\appdata\\roaming\\python\\python311\\site-packages (from llama-index-core<0.13.0,>=0.12.24->llama-index) (2.10.6)\n",
      "Requirement already satisfied: tenacity!=8.4.0,<10.0.0,>=8.2.0 in c:\\programdata\\anaconda3\\lib\\site-packages (from llama-index-core<0.13.0,>=0.12.24->llama-index) (8.2.2)\n",
      "Requirement already satisfied: tiktoken>=0.3.3 in c:\\users\\user\\appdata\\roaming\\python\\python311\\site-packages (from llama-index-core<0.13.0,>=0.12.24->llama-index) (0.5.1)\n",
      "Requirement already satisfied: typing-inspect>=0.8.0 in c:\\users\\user\\appdata\\roaming\\python\\python311\\site-packages (from llama-index-core<0.13.0,>=0.12.24->llama-index) (0.9.0)\n",
      "Requirement already satisfied: wrapt in c:\\programdata\\anaconda3\\lib\\site-packages (from llama-index-core<0.13.0,>=0.12.24->llama-index) (1.14.1)\n",
      "Requirement already satisfied: llama-cloud<0.2.0,>=0.1.13 in c:\\users\\user\\appdata\\roaming\\python\\python311\\site-packages (from llama-index-indices-managed-llama-cloud>=0.4.0->llama-index) (0.1.14)\n",
      "Requirement already satisfied: beautifulsoup4<5.0.0,>=4.12.3 in c:\\users\\user\\appdata\\roaming\\python\\python311\\site-packages (from llama-index-readers-file<0.5.0,>=0.4.0->llama-index) (4.13.3)\n",
      "Requirement already satisfied: pypdf<6.0.0,>=5.1.0 in c:\\users\\user\\appdata\\roaming\\python\\python311\\site-packages (from llama-index-readers-file<0.5.0,>=0.4.0->llama-index) (5.3.1)\n",
      "Requirement already satisfied: striprtf<0.0.27,>=0.0.26 in c:\\users\\user\\appdata\\roaming\\python\\python311\\site-packages (from llama-index-readers-file<0.5.0,>=0.4.0->llama-index) (0.0.26)\n",
      "Requirement already satisfied: llama-parse>=0.5.0 in c:\\users\\user\\appdata\\roaming\\python\\python311\\site-packages (from llama-index-readers-llama-parse>=0.4.0->llama-index) (0.6.4.post1)\n",
      "Requirement already satisfied: click in c:\\users\\user\\appdata\\roaming\\python\\python311\\site-packages (from nltk>3.8.1->llama-index) (8.1.8)\n",
      "Requirement already satisfied: joblib in c:\\programdata\\anaconda3\\lib\\site-packages (from nltk>3.8.1->llama-index) (1.2.0)\n",
      "Requirement already satisfied: regex>=2021.8.3 in c:\\programdata\\anaconda3\\lib\\site-packages (from nltk>3.8.1->llama-index) (2022.7.9)\n",
      "Requirement already satisfied: charset-normalizer<4,>=2 in c:\\programdata\\anaconda3\\lib\\site-packages (from requests>=2.32.2->datasets) (2.0.4)\n",
      "Requirement already satisfied: idna<4,>=2.5 in c:\\programdata\\anaconda3\\lib\\site-packages (from requests>=2.32.2->datasets) (3.4)\n",
      "Requirement already satisfied: urllib3<3,>=1.21.1 in c:\\users\\user\\appdata\\roaming\\python\\python311\\site-packages (from requests>=2.32.2->datasets) (2.2.2)\n",
      "Requirement already satisfied: certifi>=2017.4.17 in c:\\users\\user\\appdata\\roaming\\python\\python311\\site-packages (from requests>=2.32.2->datasets) (2025.1.31)\n",
      "Requirement already satisfied: sympy in c:\\programdata\\anaconda3\\lib\\site-packages (from torch>=1.11.0->sentence-transformers) (1.11.1)\n",
      "Requirement already satisfied: jinja2 in c:\\programdata\\anaconda3\\lib\\site-packages (from torch>=1.11.0->sentence-transformers) (3.1.2)\n",
      "Requirement already satisfied: colorama in c:\\programdata\\anaconda3\\lib\\site-packages (from tqdm->sentence-transformers) (0.4.6)\n",
      "Requirement already satisfied: tokenizers<0.22,>=0.21 in c:\\users\\user\\appdata\\roaming\\python\\python311\\site-packages (from transformers<5.0.0,>=4.41.0->sentence-transformers) (0.21.0)\n",
      "Requirement already satisfied: safetensors>=0.4.1 in c:\\users\\user\\appdata\\roaming\\python\\python311\\site-packages (from transformers<5.0.0,>=4.41.0->sentence-transformers) (0.5.3)\n",
      "Requirement already satisfied: python-dateutil>=2.8.1 in c:\\programdata\\anaconda3\\lib\\site-packages (from pandas->datasets) (2.8.2)\n",
      "Requirement already satisfied: pytz>=2020.1 in c:\\programdata\\anaconda3\\lib\\site-packages (from pandas->datasets) (2022.7)\n",
      "Requirement already satisfied: threadpoolctl>=3.1.0 in c:\\users\\user\\appdata\\roaming\\python\\python311\\site-packages (from scikit-learn->sentence-transformers) (3.5.0)\n",
      "Requirement already satisfied: soupsieve>1.2 in c:\\programdata\\anaconda3\\lib\\site-packages (from beautifulsoup4<5.0.0,>=4.12.3->llama-index-readers-file<0.5.0,>=0.4.0->llama-index) (2.4)\n",
      "Requirement already satisfied: anyio in c:\\programdata\\anaconda3\\lib\\site-packages (from httpx->llama-index-core<0.13.0,>=0.12.24->llama-index) (3.5.0)\n",
      "Requirement already satisfied: httpcore==1.* in c:\\users\\user\\appdata\\roaming\\python\\python311\\site-packages (from httpx->llama-index-core<0.13.0,>=0.12.24->llama-index) (1.0.5)\n",
      "Requirement already satisfied: sniffio in c:\\programdata\\anaconda3\\lib\\site-packages (from httpx->llama-index-core<0.13.0,>=0.12.24->llama-index) (1.2.0)\n",
      "Requirement already satisfied: h11<0.15,>=0.13 in c:\\users\\user\\appdata\\roaming\\python\\python311\\site-packages (from httpcore==1.*->httpx->llama-index-core<0.13.0,>=0.12.24->llama-index) (0.14.0)\n",
      "Requirement already satisfied: llama-cloud-services>=0.6.4 in c:\\users\\user\\appdata\\roaming\\python\\python311\\site-packages (from llama-parse>=0.5.0->llama-index-readers-llama-parse>=0.4.0->llama-index) (0.6.5)\n",
      "Requirement already satisfied: distro<2,>=1.7.0 in c:\\users\\user\\appdata\\roaming\\python\\python311\\site-packages (from openai>=1.14.0->llama-index-agent-openai<0.5.0,>=0.4.0->llama-index) (1.8.0)\n",
      "Requirement already satisfied: jiter<1,>=0.4.0 in c:\\users\\user\\appdata\\roaming\\python\\python311\\site-packages (from openai>=1.14.0->llama-index-agent-openai<0.5.0,>=0.4.0->llama-index) (0.8.2)\n",
      "Requirement already satisfied: annotated-types>=0.6.0 in c:\\users\\user\\appdata\\roaming\\python\\python311\\site-packages (from pydantic>=2.8.0->llama-index-core<0.13.0,>=0.12.24->llama-index) (0.6.0)\n",
      "Requirement already satisfied: pydantic-core==2.27.2 in c:\\users\\user\\appdata\\roaming\\python\\python311\\site-packages (from pydantic>=2.8.0->llama-index-core<0.13.0,>=0.12.24->llama-index) (2.27.2)\n",
      "Requirement already satisfied: six>=1.5 in c:\\programdata\\anaconda3\\lib\\site-packages (from python-dateutil>=2.8.1->pandas->datasets) (1.16.0)\n",
      "Requirement already satisfied: greenlet!=0.4.17 in c:\\programdata\\anaconda3\\lib\\site-packages (from SQLAlchemy[asyncio]>=1.4.49->llama-index-core<0.13.0,>=0.12.24->llama-index) (2.0.1)\n",
      "Requirement already satisfied: mypy-extensions>=0.3.0 in c:\\programdata\\anaconda3\\lib\\site-packages (from typing-inspect>=0.8.0->llama-index-core<0.13.0,>=0.12.24->llama-index) (0.4.3)\n",
      "Requirement already satisfied: marshmallow<4.0.0,>=3.18.0 in c:\\users\\user\\appdata\\roaming\\python\\python311\\site-packages (from dataclasses-json->llama-index-core<0.13.0,>=0.12.24->llama-index) (3.26.1)\n",
      "Requirement already satisfied: MarkupSafe>=2.0 in c:\\programdata\\anaconda3\\lib\\site-packages (from jinja2->torch>=1.11.0->sentence-transformers) (2.1.1)\n",
      "Requirement already satisfied: mpmath>=0.19 in c:\\programdata\\anaconda3\\lib\\site-packages (from sympy->torch>=1.11.0->sentence-transformers) (1.3.0)\n",
      "Requirement already satisfied: python-dotenv<2.0.0,>=1.0.1 in c:\\users\\user\\appdata\\roaming\\python\\python311\\site-packages (from llama-cloud-services>=0.6.4->llama-parse>=0.5.0->llama-index-readers-llama-parse>=0.4.0->llama-index) (1.0.1)\n",
      "Downloading llama_index-0.12.24-py3-none-any.whl (7.0 kB)\n",
      "Downloading datasets-3.4.0-py3-none-any.whl (487 kB)\n",
      "   ---------------------------------------- 0.0/487.4 kB ? eta -:--:--\n",
      "   --- ----------------------------------- 41.0/487.4 kB 991.0 kB/s eta 0:00:01\n",
      "   ----- --------------------------------- 71.7/487.4 kB 991.0 kB/s eta 0:00:01\n",
      "   ------- ------------------------------- 92.2/487.4 kB 585.1 kB/s eta 0:00:01\n",
      "   ------- ------------------------------- 92.2/487.4 kB 585.1 kB/s eta 0:00:01\n",
      "   -------- ----------------------------- 112.6/487.4 kB 504.4 kB/s eta 0:00:01\n",
      "   --------- ---------------------------- 122.9/487.4 kB 400.9 kB/s eta 0:00:01\n",
      "   --------- ---------------------------- 122.9/487.4 kB 400.9 kB/s eta 0:00:01\n",
      "   ----------- -------------------------- 143.4/487.4 kB 388.1 kB/s eta 0:00:01\n",
      "   ----------- -------------------------- 153.6/487.4 kB 353.1 kB/s eta 0:00:01\n",
      "   ------------- ------------------------ 174.1/487.4 kB 338.5 kB/s eta 0:00:01\n",
      "   --------------- ---------------------- 194.6/487.4 kB 347.1 kB/s eta 0:00:01\n",
      "   --------------- ---------------------- 204.8/487.4 kB 319.5 kB/s eta 0:00:01\n",
      "   --------------- ---------------------- 204.8/487.4 kB 319.5 kB/s eta 0:00:01\n",
      "   --------------- ---------------------- 204.8/487.4 kB 319.5 kB/s eta 0:00:01\n",
      "   ------------------ ------------------- 235.5/487.4 kB 300.4 kB/s eta 0:00:01\n",
      "   ------------------ ------------------- 235.5/487.4 kB 300.4 kB/s eta 0:00:01\n",
      "   ------------------- ------------------ 256.0/487.4 kB 291.5 kB/s eta 0:00:01\n",
      "   --------------------- ---------------- 276.5/487.4 kB 299.1 kB/s eta 0:00:01\n",
      "   --------------------- ---------------- 276.5/487.4 kB 299.1 kB/s eta 0:00:01\n",
      "   ---------------------- --------------- 286.7/487.4 kB 285.6 kB/s eta 0:00:01\n",
      "   ----------------------- -------------- 307.2/487.4 kB 288.0 kB/s eta 0:00:01\n",
      "   ----------------------- -------------- 307.2/487.4 kB 288.0 kB/s eta 0:00:01\n",
      "   ------------------------ ------------- 317.4/487.4 kB 273.1 kB/s eta 0:00:01\n",
      "   -------------------------- ----------- 337.9/487.4 kB 276.1 kB/s eta 0:00:01\n",
      "   --------------------------- ---------- 358.4/487.4 kB 282.1 kB/s eta 0:00:01\n",
      "   ---------------------------- --------- 368.6/487.4 kB 276.5 kB/s eta 0:00:01\n",
      "   ------------------------------ ------- 389.1/487.4 kB 275.5 kB/s eta 0:00:01\n",
      "   ------------------------------- ------ 399.4/487.4 kB 273.8 kB/s eta 0:00:01\n",
      "   ------------------------------- ------ 399.4/487.4 kB 273.8 kB/s eta 0:00:01\n",
      "   -------------------------------- ----- 419.8/487.4 kB 270.4 kB/s eta 0:00:01\n",
      "   ---------------------------------- --- 440.3/487.4 kB 272.5 kB/s eta 0:00:01\n",
      "   ----------------------------------- -- 450.6/487.4 kB 271.0 kB/s eta 0:00:01\n",
      "   ------------------------------------ - 471.0/487.4 kB 270.6 kB/s eta 0:00:01\n",
      "   -------------------------------------- 487.4/487.4 kB 267.9 kB/s eta 0:00:00\n",
      "Downloading llama_index_core-0.12.24.post1-py3-none-any.whl (1.6 MB)\n",
      "   ---------------------------------------- 0.0/1.6 MB ? eta -:--:--\n",
      "   ---------------------------------------- 0.0/1.6 MB ? eta -:--:--\n",
      "   - -------------------------------------- 0.1/1.6 MB 812.7 kB/s eta 0:00:02\n",
      "   - -------------------------------------- 0.1/1.6 MB 787.7 kB/s eta 0:00:02\n",
      "   -- ------------------------------------- 0.1/1.6 MB 655.4 kB/s eta 0:00:03\n",
      "   -- ------------------------------------- 0.1/1.6 MB 544.7 kB/s eta 0:00:03\n",
      "   -- ------------------------------------- 0.1/1.6 MB 544.7 kB/s eta 0:00:03\n",
      "   --- ------------------------------------ 0.1/1.6 MB 423.5 kB/s eta 0:00:04\n",
      "   --- ------------------------------------ 0.1/1.6 MB 425.3 kB/s eta 0:00:04\n",
      "   --- ------------------------------------ 0.2/1.6 MB 382.3 kB/s eta 0:00:04\n",
      "   --- ------------------------------------ 0.2/1.6 MB 382.3 kB/s eta 0:00:04\n",
      "   ---- ----------------------------------- 0.2/1.6 MB 361.7 kB/s eta 0:00:04\n",
      "   ---- ----------------------------------- 0.2/1.6 MB 361.7 kB/s eta 0:00:04\n",
      "   ---- ----------------------------------- 0.2/1.6 MB 347.1 kB/s eta 0:00:05\n",
      "   ---- ----------------------------------- 0.2/1.6 MB 347.1 kB/s eta 0:00:05\n",
      "   ---- ----------------------------------- 0.2/1.6 MB 347.1 kB/s eta 0:00:05\n",
      "   ---- ----------------------------------- 0.2/1.6 MB 347.1 kB/s eta 0:00:05\n",
      "   ---- ----------------------------------- 0.2/1.6 MB 347.1 kB/s eta 0:00:05\n",
      "   ---- ----------------------------------- 0.2/1.6 MB 347.1 kB/s eta 0:00:05\n",
      "   ---- ----------------------------------- 0.2/1.6 MB 347.1 kB/s eta 0:00:05\n",
      "   ---- ----------------------------------- 0.2/1.6 MB 347.1 kB/s eta 0:00:05\n",
      "   ---- ----------------------------------- 0.2/1.6 MB 347.1 kB/s eta 0:00:05\n",
      "   ---- ----------------------------------- 0.2/1.6 MB 347.1 kB/s eta 0:00:05\n",
      "   ---- ----------------------------------- 0.2/1.6 MB 347.1 kB/s eta 0:00:05\n",
      "   ---- ----------------------------------- 0.2/1.6 MB 347.1 kB/s eta 0:00:05\n",
      "   ------ --------------------------------- 0.3/1.6 MB 218.5 kB/s eta 0:00:07\n",
      "   ------ --------------------------------- 0.3/1.6 MB 218.4 kB/s eta 0:00:07\n",
      "   ------- -------------------------------- 0.3/1.6 MB 250.0 kB/s eta 0:00:06\n",
      "   ------- -------------------------------- 0.3/1.6 MB 250.0 kB/s eta 0:00:06\n",
      "   ------- -------------------------------- 0.3/1.6 MB 250.0 kB/s eta 0:00:06\n",
      "   --------- ------------------------------ 0.4/1.6 MB 269.9 kB/s eta 0:00:05\n",
      "   --------- ------------------------------ 0.4/1.6 MB 276.8 kB/s eta 0:00:05\n",
      "   --------- ------------------------------ 0.4/1.6 MB 276.8 kB/s eta 0:00:05\n",
      "   ---------- ----------------------------- 0.4/1.6 MB 273.1 kB/s eta 0:00:05\n",
      "   ---------- ----------------------------- 0.4/1.6 MB 268.6 kB/s eta 0:00:05\n",
      "   ----------- ---------------------------- 0.5/1.6 MB 273.7 kB/s eta 0:00:05\n",
      "   ----------- ---------------------------- 0.5/1.6 MB 278.3 kB/s eta 0:00:05\n",
      "   ----------- ---------------------------- 0.5/1.6 MB 278.3 kB/s eta 0:00:05\n",
      "   ----------- ---------------------------- 0.5/1.6 MB 278.3 kB/s eta 0:00:05\n",
      "   ------------ --------------------------- 0.5/1.6 MB 257.9 kB/s eta 0:00:05\n",
      "   ------------- -------------------------- 0.5/1.6 MB 269.5 kB/s eta 0:00:05\n",
      "   ------------- -------------------------- 0.5/1.6 MB 269.5 kB/s eta 0:00:05\n",
      "   ------------- -------------------------- 0.5/1.6 MB 269.5 kB/s eta 0:00:05\n",
      "   ------------- -------------------------- 0.5/1.6 MB 269.5 kB/s eta 0:00:05\n",
      "   ------------- -------------------------- 0.6/1.6 MB 256.5 kB/s eta 0:00:05\n",
      "   ------------- -------------------------- 0.6/1.6 MB 256.5 kB/s eta 0:00:05\n",
      "   ------------- -------------------------- 0.6/1.6 MB 256.5 kB/s eta 0:00:05\n",
      "   ------------- -------------------------- 0.6/1.6 MB 256.5 kB/s eta 0:00:05\n",
      "   --------------- ------------------------ 0.6/1.6 MB 254.4 kB/s eta 0:00:04\n",
      "   ---------------- ----------------------- 0.6/1.6 MB 262.1 kB/s eta 0:00:04\n",
      "   ---------------- ----------------------- 0.6/1.6 MB 262.1 kB/s eta 0:00:04\n",
      "   ---------------- ----------------------- 0.7/1.6 MB 263.8 kB/s eta 0:00:04\n",
      "   ---------------- ----------------------- 0.7/1.6 MB 263.8 kB/s eta 0:00:04\n",
      "   ---------------- ----------------------- 0.7/1.6 MB 256.6 kB/s eta 0:00:04\n",
      "   ----------------- ---------------------- 0.7/1.6 MB 259.8 kB/s eta 0:00:04\n",
      "   ----------------- ---------------------- 0.7/1.6 MB 261.4 kB/s eta 0:00:04\n",
      "   ------------------ --------------------- 0.7/1.6 MB 263.6 kB/s eta 0:00:04\n",
      "   ------------------ --------------------- 0.7/1.6 MB 263.6 kB/s eta 0:00:04\n",
      "   ------------------ --------------------- 0.8/1.6 MB 260.0 kB/s eta 0:00:04\n",
      "   ------------------- -------------------- 0.8/1.6 MB 260.1 kB/s eta 0:00:04\n",
      "   ------------------- -------------------- 0.8/1.6 MB 261.4 kB/s eta 0:00:04\n",
      "   -------------------- ------------------- 0.8/1.6 MB 259.5 kB/s eta 0:00:04\n",
      "   -------------------- ------------------- 0.8/1.6 MB 262.1 kB/s eta 0:00:03\n",
      "   -------------------- ------------------- 0.8/1.6 MB 262.1 kB/s eta 0:00:03\n",
      "   -------------------- ------------------- 0.8/1.6 MB 260.2 kB/s eta 0:00:03\n",
      "   --------------------- ------------------ 0.9/1.6 MB 260.2 kB/s eta 0:00:03\n",
      "   --------------------- ------------------ 0.9/1.6 MB 260.2 kB/s eta 0:00:03\n",
      "   --------------------- ------------------ 0.9/1.6 MB 260.3 kB/s eta 0:00:03\n",
      "   ---------------------- ----------------- 0.9/1.6 MB 259.7 kB/s eta 0:00:03\n",
      "   ---------------------- ----------------- 0.9/1.6 MB 259.7 kB/s eta 0:00:03\n",
      "   ---------------------- ----------------- 0.9/1.6 MB 259.8 kB/s eta 0:00:03\n",
      "   ---------------------- ----------------- 0.9/1.6 MB 258.1 kB/s eta 0:00:03\n",
      "   ---------------------- ----------------- 0.9/1.6 MB 258.1 kB/s eta 0:00:03\n",
      "   ----------------------- ---------------- 0.9/1.6 MB 258.2 kB/s eta 0:00:03\n",
      "   ----------------------- ---------------- 1.0/1.6 MB 259.3 kB/s eta 0:00:03\n",
      "   ----------------------- ---------------- 1.0/1.6 MB 259.3 kB/s eta 0:00:03\n",
      "   ------------------------ --------------- 1.0/1.6 MB 257.8 kB/s eta 0:00:03\n",
      "   ------------------------ --------------- 1.0/1.6 MB 258.9 kB/s eta 0:00:03\n",
      "   ------------------------ --------------- 1.0/1.6 MB 257.4 kB/s eta 0:00:03\n",
      "   ------------------------ --------------- 1.0/1.6 MB 257.4 kB/s eta 0:00:03\n",
      "   ------------------------ --------------- 1.0/1.6 MB 257.4 kB/s eta 0:00:03\n",
      "   ------------------------- -------------- 1.0/1.6 MB 256.5 kB/s eta 0:00:03\n",
      "   ------------------------- -------------- 1.0/1.6 MB 258.6 kB/s eta 0:00:03\n",
      "   -------------------------- ------------- 1.1/1.6 MB 258.6 kB/s eta 0:00:03\n",
      "   -------------------------- ------------- 1.1/1.6 MB 258.6 kB/s eta 0:00:03\n",
      "   -------------------------- ------------- 1.1/1.6 MB 257.2 kB/s eta 0:00:03\n",
      "   --------------------------- ------------ 1.1/1.6 MB 257.3 kB/s eta 0:00:03\n",
      "   --------------------------- ------------ 1.1/1.6 MB 257.3 kB/s eta 0:00:03\n",
      "   --------------------------- ------------ 1.1/1.6 MB 255.9 kB/s eta 0:00:02\n",
      "   --------------------------- ------------ 1.1/1.6 MB 256.9 kB/s eta 0:00:02\n",
      "   --------------------------- ------------ 1.1/1.6 MB 256.9 kB/s eta 0:00:02\n",
      "   ---------------------------- ----------- 1.1/1.6 MB 257.0 kB/s eta 0:00:02\n",
      "   ---------------------------- ----------- 1.1/1.6 MB 257.0 kB/s eta 0:00:02\n",
      "   ---------------------------- ----------- 1.2/1.6 MB 254.9 kB/s eta 0:00:02\n",
      "   ----------------------------- ---------- 1.2/1.6 MB 256.7 kB/s eta 0:00:02\n",
      "   ----------------------------- ---------- 1.2/1.6 MB 255.5 kB/s eta 0:00:02\n",
      "   ------------------------------ --------- 1.2/1.6 MB 255.6 kB/s eta 0:00:02\n",
      "   ------------------------------ --------- 1.2/1.6 MB 255.6 kB/s eta 0:00:02\n",
      "   ------------------------------ --------- 1.2/1.6 MB 255.7 kB/s eta 0:00:02\n",
      "   ------------------------------ --------- 1.2/1.6 MB 255.3 kB/s eta 0:00:02\n",
      "   ------------------------------ --------- 1.2/1.6 MB 255.3 kB/s eta 0:00:02\n",
      "   ------------------------------ --------- 1.2/1.6 MB 255.3 kB/s eta 0:00:02\n",
      "   ------------------------------ --------- 1.2/1.6 MB 255.3 kB/s eta 0:00:02\n",
      "   ------------------------------ --------- 1.2/1.6 MB 255.3 kB/s eta 0:00:02\n",
      "   ------------------------------ --------- 1.2/1.6 MB 255.3 kB/s eta 0:00:02\n",
      "   ------------------------------ --------- 1.2/1.6 MB 255.3 kB/s eta 0:00:02\n",
      "   ------------------------------ --------- 1.2/1.6 MB 255.3 kB/s eta 0:00:02\n",
      "   ------------------------------ --------- 1.2/1.6 MB 255.3 kB/s eta 0:00:02\n",
      "   ------------------------------ --------- 1.2/1.6 MB 255.3 kB/s eta 0:00:02\n",
      "   --------------------------------- ------ 1.4/1.6 MB 254.0 kB/s eta 0:00:02\n",
      "   ---------------------------------- ----- 1.4/1.6 MB 254.1 kB/s eta 0:00:01\n",
      "   ---------------------------------- ----- 1.4/1.6 MB 254.1 kB/s eta 0:00:01\n",
      "   ---------------------------------- ----- 1.4/1.6 MB 255.0 kB/s eta 0:00:01\n",
      "   ---------------------------------- ----- 1.4/1.6 MB 255.0 kB/s eta 0:00:01\n",
      "   ---------------------------------- ----- 1.4/1.6 MB 253.2 kB/s eta 0:00:01\n",
      "   ----------------------------------- ---- 1.4/1.6 MB 254.0 kB/s eta 0:00:01\n",
      "   ----------------------------------- ---- 1.4/1.6 MB 253.0 kB/s eta 0:00:01\n",
      "   ------------------------------------ --- 1.5/1.6 MB 253.2 kB/s eta 0:00:01\n",
      "   ------------------------------------ --- 1.5/1.6 MB 254.7 kB/s eta 0:00:01\n",
      "   ------------------------------------ --- 1.5/1.6 MB 254.7 kB/s eta 0:00:01\n",
      "   ------------------------------------ --- 1.5/1.6 MB 253.7 kB/s eta 0:00:01\n",
      "   ------------------------------------- -- 1.5/1.6 MB 254.5 kB/s eta 0:00:01\n",
      "   ------------------------------------- -- 1.5/1.6 MB 252.9 kB/s eta 0:00:01\n",
      "   ------------------------------------- -- 1.5/1.6 MB 252.9 kB/s eta 0:00:01\n",
      "   -------------------------------------- - 1.5/1.6 MB 253.6 kB/s eta 0:00:01\n",
      "   -------------------------------------- - 1.6/1.6 MB 253.7 kB/s eta 0:00:01\n",
      "   -------------------------------------- - 1.6/1.6 MB 253.5 kB/s eta 0:00:01\n",
      "   ---------------------------------------  1.6/1.6 MB 253.6 kB/s eta 0:00:01\n",
      "   ---------------------------------------  1.6/1.6 MB 253.6 kB/s eta 0:00:01\n",
      "   ---------------------------------------  1.6/1.6 MB 253.7 kB/s eta 0:00:01\n",
      "   ---------------------------------------- 1.6/1.6 MB 252.9 kB/s eta 0:00:00\n",
      "Installing collected packages: llama-index-core, datasets, llama-index\n",
      "  Attempting uninstall: llama-index-core\n",
      "    Found existing installation: llama-index-core 0.12.23.post2\n",
      "    Uninstalling llama-index-core-0.12.23.post2:\n",
      "      Successfully uninstalled llama-index-core-0.12.23.post2\n",
      "  Attempting uninstall: datasets\n",
      "    Found existing installation: datasets 2.19.2\n",
      "    Uninstalling datasets-2.19.2:\n",
      "      Successfully uninstalled datasets-2.19.2\n",
      "  Attempting uninstall: llama-index\n",
      "    Found existing installation: llama-index 0.12.23\n",
      "    Uninstalling llama-index-0.12.23:\n",
      "      Successfully uninstalled llama-index-0.12.23\n",
      "Successfully installed datasets-3.4.0 llama-index-0.12.24 llama-index-core-0.12.24.post1\n",
      "Note: you may need to restart the kernel to use updated packages.\n"
     ]
    },
    {
     "name": "stderr",
     "output_type": "stream",
     "text": [
      "  WARNING: The script datasets-cli.exe is installed in 'C:\\Users\\user\\AppData\\Roaming\\Python\\Python311\\Scripts' which is not on PATH.\n",
      "  Consider adding this directory to PATH or, if you prefer to suppress this warning, use --no-warn-script-location.\n",
      "  WARNING: The script llamaindex-cli.exe is installed in 'C:\\Users\\user\\AppData\\Roaming\\Python\\Python311\\Scripts' which is not on PATH.\n",
      "  Consider adding this directory to PATH or, if you prefer to suppress this warning, use --no-warn-script-location.\n"
     ]
    }
   ],
   "source": [
    "# pip install --upgrade llama-index sentence-transformers datasets"
   ]
  },
  {
   "cell_type": "code",
   "execution_count": 10,
   "id": "d78a8e4b",
   "metadata": {},
   "outputs": [],
   "source": [
    "from llama_index.embeddings.huggingface import HuggingFaceEmbedding\n",
    "from llama_index.core import Settings\n",
    "\n",
    "Settings.embed_model = HuggingFaceEmbedding(\n",
    "    model_name=\"BAAI/bge-small-en-v1.5\"\n",
    ")"
   ]
  },
  {
   "cell_type": "markdown",
   "id": "86df6497-f6b0-4231-8fc2-57a326f2bac6",
   "metadata": {},
   "source": [
    "### 2. Creating a Vector Store Index"
   ]
  },
  {
   "attachments": {
    "image.png": {
     "image/png": "[encoded data removed]"
    }
   },
   "cell_type": "markdown",
   "id": "869382b7-4077-4eb7-81df-a262831c4ebe",
   "metadata": {},
   "source": [
    "![image.png](attachment:image.png)\n",
    "\n",
    "We'll now feed the Document objects to `VectorStoreIndex`. The `VectorStoreIndex` will use an embedding model to embed the text, i.e. turn it into vectors that you can search. You'll be using an embedding model provided by Hugging face.\n",
    "\n",
    "The `VectorStoreIndex` will return an index object, which is a data structure that allows you to quickly retrieve relevant context for your query. It's the core foundation for RAG use-cases. You can use indexes to build Query Engines and Chat Engines which enables question & answer and chat over your data."
   ]
  },
  {
   "cell_type": "code",
   "execution_count": 11,
   "id": "90d6351c-9e1f-457b-b6d0-d739fb826743",
   "metadata": {
    "height": 66
   },
   "outputs": [],
   "source": [
    "from llama_index.core import VectorStoreIndex"
   ]
  },
  {
   "cell_type": "code",
   "execution_count": 12,
   "id": "4b6b96c5-82a7-4c9f-9e8d-300806533340",
   "metadata": {
    "height": 117
   },
   "outputs": [],
   "source": [
    "index = VectorStoreIndex.from_documents(\n",
    "    documents\n",
    ")\n",
    "\n",
    "# we have already setup the embed model with setting so no need write the embedding model here"
   ]
  },
  {
   "cell_type": "markdown",
   "id": "32b545ff",
   "metadata": {},
   "source": [
    "## Setting up LLM"
   ]
  },
  {
   "cell_type": "code",
   "execution_count": 13,
   "id": "39f73e31",
   "metadata": {},
   "outputs": [],
   "source": [
    "from llama_index.llms.groq import Groq\n",
    "from llama_index.core import Settings\n",
    "\n",
    "\n",
    "os.environ[\"GROQ_API_KEY\"] = os.getenv('GROQ_API')\n",
    "llm = Groq(model=\"llama3-70b-8192\", api_key=os.environ[\"GROQ_API_KEY\"])\n",
    "Settings.llm = llm"
   ]
  },
  {
   "cell_type": "code",
   "execution_count": 14,
   "id": "bbdd91d8",
   "metadata": {},
   "outputs": [
    {
     "name": "stdout",
     "output_type": "stream",
     "text": [
      "This person's name is Sarah Chen, and their most recent job was as a Senior Full Stack Developer at TechFlow Solutions.\n"
     ]
    }
   ],
   "source": [
    "query_engine = index.as_query_engine(llm=llm, similarity_top_k=5)\n",
    "response = query_engine.query(\"What is this person's name and what was their most recent job?\")\n",
    "print(response)"
   ]
  },
  {
   "cell_type": "markdown",
   "id": "d443cdeb-fb24-4ad9-abd5-c4bf845ca258",
   "metadata": {},
   "source": [
    "## Storing the Index to Disk"
   ]
  },
  {
   "cell_type": "markdown",
   "id": "b07b7836-90cf-4883-a9bc-18fb7a443023",
   "metadata": {},
   "source": [
    "Indexes can be persisted to disk. This is useful in a notebook that you might run several times! In a production setting, you would probably use a hosted vector store of some kind. Let's save your index to disk."
   ]
  },
  {
   "cell_type": "code",
   "execution_count": 19,
   "id": "ba69d81e",
   "metadata": {},
   "outputs": [],
   "source": [
    "storage_dir = \"./storage\"\n",
    "\n",
    "index.storage_context.persist(persist_dir=storage_dir) #this will create the storage folder with bunch of files which can be used later"
   ]
  },
  {
   "cell_type": "markdown",
   "id": "1b8419ca",
   "metadata": {},
   "source": [
    "## Loading the model"
   ]
  },
  {
   "cell_type": "code",
   "execution_count": 20,
   "id": "7e0d88ae-c97d-42d9-a67c-1e3e846a4e11",
   "metadata": {
    "height": 49
   },
   "outputs": [],
   "source": [
    "from llama_index.core import StorageContext, load_index_from_storage"
   ]
  },
  {
   "cell_type": "markdown",
   "id": "24ffb6d9-aa9d-4f5b-a743-5c3a0e4dafc9",
   "metadata": {},
   "source": [
    "You can check if your index has already been stored, and if it has, you can reload an index from disk using the `load_index_from_storage` method, like this:"
   ]
  },
  {
   "cell_type": "code",
   "execution_count": 21,
   "id": "7339cb1e",
   "metadata": {},
   "outputs": [],
   "source": [
    "# Check if the index is stored on disk\n",
    "if os.path.exists(storage_dir):\n",
    "    # Load the index from disk\n",
    "    storage_context = StorageContext.from_defaults(persist_dir=storage_dir)\n",
    "    restored_index = load_index_from_storage(storage_context)\n",
    "else:\n",
    "    print(\"Index not found on disk.\")"
   ]
  },
  {
   "cell_type": "code",
   "execution_count": 23,
   "id": "69c86493",
   "metadata": {
    "scrolled": true
   },
   "outputs": [
    {
     "name": "stdout",
     "output_type": "stream",
     "text": [
      "The skills of this candidate include:\n",
      "\n",
      "Frontend: \n",
      "- React.js, Redux, Next.js, TypeScript\n",
      "- Vue.js, Nuxt.js\n",
      "- HTML5, CSS3, SASS/SCSS\n",
      "- Jest, React Testing Library\n",
      "- WebPack, Babel\n",
      "\n",
      "Backend: \n",
      "- Node.js, Express.js\n",
      "- Python, Django\n",
      "- GraphQL, REST APIs\n",
      "- PostgreSQL, MongoDB\n",
      "\n",
      "Tools & Others: \n",
      "- Docker, Kubernetes\n",
      "- AWS (EC2, S3, Lambda)\n",
      "- Git, GitHub Actions\n",
      "- Jenkins, CircleCI\n",
      "- Agile/Scrum methodology\n",
      "- Performance optimization\n"
     ]
    }
   ],
   "source": [
    "response = restored_index.as_query_engine().query(\"what are the skill of this candidate\")\n",
    "print(response)"
   ]
  },
  {
   "cell_type": "markdown",
   "id": "a709fda1-7cd5-4c9a-b219-ed64d16d9e76",
   "metadata": {},
   "source": [
    "## Making RAG Agentic"
   ]
  },
  {
   "cell_type": "markdown",
   "id": "ba0d7e4b-5167-4214-a09b-132c62c5370b",
   "metadata": {},
   "source": [
    "With a RAG pipeline in hand, let's turn it into a tool that can be used by an agent to answer questions. This is a stepping-stone towards creating an agentic system that can perform your larger goal."
   ]
  },
  {
   "cell_type": "code",
   "execution_count": 25,
   "id": "30f1ca1b-7e2f-416b-aa42-1adcd7d0fd53",
   "metadata": {
    "height": 66
   },
   "outputs": [],
   "source": [
    "from llama_index.core.tools import FunctionTool\n",
    "\n",
    "\"\"\"\n",
    "A function tool allows users to easily convert any user-defined function into a Tool. It can also auto-infer the function schema.\n",
    "\"\"\"\n",
    "from llama_index.core.agent import FunctionCallingAgent"
   ]
  },
  {
   "cell_type": "markdown",
   "id": "f2a3ce49-7009-4bb4-a8e7-8f3d543a9ca2",
   "metadata": {},
   "source": [
    "First, create a regular python function that performs a RAG query. It's important to give this function a descriptive name, to mark its input and output types, and to include a docstring (that's the thing in triple quotes) which describes what it does. The framework will give all this metadata to the LLM, which will use it to decide what a tool does and whether to use it."
   ]
  },
  {
   "cell_type": "code",
   "execution_count": 26,
   "id": "6837a256-7273-4a63-9f0b-2733a9f143d8",
   "metadata": {
    "height": 117
   },
   "outputs": [],
   "source": [
    "def query_resume(q: str) -> str:\n",
    "    \"\"\"Answers questions about a specific resume.\"\"\"\n",
    "    # we're using the query engine we already created above\n",
    "    response = query_engine.query(f\"This is a question about the specific resume we have in our database: {q}\")\n",
    "    return response.response"
   ]
  },
  {
   "cell_type": "markdown",
   "id": "ba385e18",
   "metadata": {},
   "source": [
    "The next step is to create the actual tool. There's a utility function, `FunctionTool.from_defaults`, to do this for you."
   ]
  },
  {
   "cell_type": "code",
   "execution_count": 27,
   "id": "507c1f77-3f9c-4864-ae8c-2fcbc4f91a30",
   "metadata": {
    "height": 49
   },
   "outputs": [],
   "source": [
    "resume_tool = FunctionTool.from_defaults(fn=query_resume)"
   ]
  },
  {
   "cell_type": "markdown",
   "id": "f0e0b483-dcb0-4b65-b3ba-0311f6e41766",
   "metadata": {},
   "source": [
    "Now you can instantiate a `FunctionCallingAgent` using that tool. There are a number of different agent types supported by LlamaIndex; this one is particularly capable and efficient.\n",
    "\n",
    "You pass it an array of tools (just one in this case), you give it the same LLM we instantiated earlier, and you set Verbose to true so you get a little more info on what your agent is up to."
   ]
  },
  {
   "cell_type": "code",
   "execution_count": 28,
   "id": "079300b5",
   "metadata": {},
   "outputs": [],
   "source": [
    "agent = FunctionCallingAgent.from_tools(\n",
    "    tools=[resume_tool],\n",
    "    verbose=True\n",
    ")"
   ]
  },
  {
   "cell_type": "markdown",
   "id": "38f40db3",
   "metadata": {},
   "source": [
    "Now you can chat to the agent! Let's ask it a quick question about our applicant."
   ]
  },
  {
   "cell_type": "code",
   "execution_count": 29,
   "id": "04cf2e4f",
   "metadata": {
    "scrolled": true
   },
   "outputs": [
    {
     "name": "stdout",
     "output_type": "stream",
     "text": [
      "> Running step f8176e11-1d71-45fc-8250-28c2d23f9ab8. Step input: How many years of experience does the applicant have?\n",
      "Added user message to memory: How many years of experience does the applicant have?\n",
      "=== Calling Function ===\n",
      "Calling function: query_resume with args: {\"q\": \"How many years of experience\"}\n",
      "=== Function Output ===\n",
      "6+ years\n",
      "> Running step c21a3405-0ce4-432f-968e-5bbe148c9746. Step input: None\n",
      "=== LLM Response ===\n",
      "The applicant has 6+ years of experience.\n",
      "The applicant has 6+ years of experience.\n"
     ]
    }
   ],
   "source": [
    "response = agent.chat(\"How many years of experience does the applicant have?\")\n",
    "print(response)"
   ]
  },
  {
   "cell_type": "markdown",
   "id": "358755c9",
   "metadata": {},
   "source": [
    "## Wrapping the Agentic RAG into a Workflow"
   ]
  },
  {
   "attachments": {
    "image.png": {
     "image/png": "[encoded data removed]"
    }
   },
   "cell_type": "markdown",
   "id": "79163602",
   "metadata": {},
   "source": [
    "Now we have `RAG`, `Pipeline`, and `Agent` so now converting them into workflow\n",
    "\n",
    "Let's now create a similar agentic RAG from scratch using a workflow, which will be extended later. You won't rely on any of the things you've already created.\n",
    "\n",
    "Here's the workflow you will create:\n",
    "![image.png](attachment:image.png)\n",
    "\n",
    "It consists of two steps:\n",
    "1. `set_up` which is triggered by `StartEvent` and emits `QueryEvent`: at this step, the RAG system is set up and the query is passed to the second step;\n",
    "2. `ask_question` which is triggered by `QueryEvent` and emits `StopEvent`: here the response to the query is generated using the RAG query engine."
   ]
  },
  {
   "cell_type": "code",
   "execution_count": 30,
   "id": "d9b817cb",
   "metadata": {},
   "outputs": [],
   "source": [
    "from llama_index.core.workflow import (\n",
    "    StartEvent,\n",
    "    StopEvent,\n",
    "    Workflow,\n",
    "    step,\n",
    "    Event,\n",
    "    Context\n",
    ")"
   ]
  },
  {
   "cell_type": "code",
   "execution_count": 31,
   "id": "14776b18",
   "metadata": {},
   "outputs": [],
   "source": [
    "class QueryEvent(Event):\n",
    "    query: str"
   ]
  },
  {
   "cell_type": "code",
   "execution_count": 36,
   "id": "19a5e4e3",
   "metadata": {},
   "outputs": [],
   "source": [
    "class RAGWorkflow(Workflow):\n",
    "    storage_dir = \"./storage\"\n",
    "#     llm: Grok\n",
    "    query_engine: VectorStoreIndex\n",
    "\n",
    "    # the first step will be setup\n",
    "    @step\n",
    "    async def set_up(self, ctx: Context, ev: StartEvent) -> QueryEvent:\n",
    "\n",
    "        if not ev.resume_file:\n",
    "            raise ValueError(\"No resume file provided\")\n",
    "\n",
    "        # define an LLM to work with\n",
    "        self.llm = Groq(model=\"llama3-70b-8192\", api_key=os.environ[\"GROQ_API_KEY\"])\n",
    "\n",
    "        # ingest the data and set up the query engine\n",
    "        if os.path.exists(self.storage_dir):\n",
    "            # you've already ingested your documents\n",
    "            storage_context = StorageContext.from_defaults(persist_dir=self.storage_dir)\n",
    "            index = load_index_from_storage(storage_context)\n",
    "        else:\n",
    "            # parse and load your documents\n",
    "            documents = LlamaParse(\n",
    "                result_type=\"markdown\",\n",
    "                content_guideline_instruction=\"This is a resume, gather related facts together and format it as bullet points with headers\"\n",
    "            ).load_data(ev.resume_file)\n",
    "            # embed and index the documents\n",
    "            index = VectorStoreIndex.from_documents(\n",
    "                documents,\n",
    "                embed_model= HuggingFaceEmbedding(\n",
    "                model_name=\"BAAI/bge-small-en-v1.5\"\n",
    "                )\n",
    "            )\n",
    "            index.storage_context.persist(persist_dir=self.storage_dir)\n",
    "\n",
    "        # either way, create a query engine\n",
    "        self.query_engine = index.as_query_engine(llm=self.llm, similarity_top_k=5)\n",
    "\n",
    "        # now fire off a query event to trigger the next step\n",
    "        return QueryEvent(query=ev.query)\n",
    "\n",
    "    # the second step will be to ask a question and return a result immediately\n",
    "    @step\n",
    "    async def ask_question(self, ctx: Context, ev: QueryEvent) -> StopEvent:\n",
    "        response = self.query_engine.query(f\"This is a question about the specific resume we have in our database: {ev.query}\")\n",
    "        return StopEvent(result=response.response)"
   ]
  },
  {
   "cell_type": "code",
   "execution_count": 37,
   "id": "a19d4980",
   "metadata": {},
   "outputs": [
    {
     "name": "stdout",
     "output_type": "stream",
     "text": [
      "The first place the applicant worked was StartupHub in San Jose, CA, where they held the position of Junior Web Developer from June 2017 to February 2019.\n"
     ]
    }
   ],
   "source": [
    "w = RAGWorkflow(timeout=120, verbose=False)\n",
    "result = await w.run(\n",
    "    resume_file=\"./data/fake_resume.pdf\",\n",
    "    query=\"Where is the first place the applicant worked?\"\n",
    ")\n",
    "print(result)"
   ]
  },
  {
   "cell_type": "code",
   "execution_count": null,
   "id": "9e659a1e",
   "metadata": {},
   "outputs": [],
   "source": []
  }
 ],
 "metadata": {
  "kernelspec": {
   "display_name": "Python 3 (ipykernel)",
   "language": "python",
   "name": "python3"
  },
  "language_info": {
   "codemirror_mode": {
    "name": "ipython",
    "version": 3
   },
   "file_extension": ".py",
   "mimetype": "text/x-python",
   "name": "python",
   "nbconvert_exporter": "python",
   "pygments_lexer": "ipython3",
   "version": "3.11.4"
  }
 },
 "nbformat": 4,
 "nbformat_minor": 5
}
